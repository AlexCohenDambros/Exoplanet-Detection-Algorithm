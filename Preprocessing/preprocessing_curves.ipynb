{
 "cells": [
  {
   "cell_type": "code",
   "execution_count": null,
   "metadata": {},
   "outputs": [],
   "source": [
    "# coding = utf-8\n",
    "# Author: Alex Cohen Dambrós Lopes \n",
    "\n",
    "\"\"\"\n",
    "=-=-=-=-=-=-=-=-=-=-=-=-=-=-=-=-=-=-=-=-=-=-=-=-=\n",
    "Getting all light curves from space telescopes and running their pre-processing\n",
    "=-=-=-=-=-=-=-=-=-=-=-=-=-=-=-=-=-=-=-=-=-=-=-=-=\n",
    "\n",
    "This is an example code used to obtain light curves from space telescopes and preprocess \n",
    "them automatically\n",
    "\n",
    "\"\"\""
   ]
  }
 ],
 "metadata": {
  "kernelspec": {
   "display_name": "Python 3.10.5 64-bit",
   "language": "python",
   "name": "python3"
  },
  "language_info": {
   "codemirror_mode": {
    "name": "ipython",
    "version": 3
   },
   "file_extension": ".py",
   "mimetype": "text/x-python",
   "name": "python",
   "nbconvert_exporter": "python",
   "pygments_lexer": "ipython3",
   "version": "3.10.5"
  },
  "orig_nbformat": 4,
  "vscode": {
   "interpreter": {
    "hash": "c2aad3367d6b78e24ba4ea93151d29e7ae5b13b686914646e5d7fb2c62a3fe26"
   }
  }
 },
 "nbformat": 4,
 "nbformat_minor": 2
}
