{
 "cells": [
  {
   "cell_type": "markdown",
   "metadata": {},
   "source": [
    "### Imports"
   ]
  },
  {
   "cell_type": "code",
   "execution_count": null,
   "metadata": {},
   "outputs": [],
   "source": [
    "import numpy as np\n",
    "import pandas as pd\n",
    "\n",
    "from sklearn.model_selection import train_test_split\n",
    "from sklearn.svm import SVC\n",
    "from sklearn.neural_network import MLPClassifier\n",
    "from sklearn.ensemble import AdaBoostClassifier\n",
    "from sklearn.tree import DecisionTreeClassifier\n",
    "\n",
    "from xgboost import XGBClassifier\n",
    "from imblearn.over_sampling import SMOTE\n",
    "\n",
    "from MachineLearning import models"
   ]
  },
  {
   "cell_type": "markdown",
   "metadata": {},
   "source": [
    "### Read Databases"
   ]
  },
  {
   "cell_type": "code",
   "execution_count": null,
   "metadata": {},
   "outputs": [],
   "source": [
    "local_view = pd.read_csv(\n",
    "    \"Preprocessed\\preprocessed_local_view.csv\", sep=\",\")\n",
    "global_view = pd.read_csv(\n",
    "    \"Preprocessed\\preprocessed_global_view.csv\", sep=\",\")\n",
    "\n",
    "local_view.drop([\"Unnamed: 0\"], axis=1, inplace=True)\n",
    "global_view.drop([\"Unnamed: 0\"], axis=1, inplace=True)\n",
    "\n",
    "dropna_list = [local_view, global_view]\n",
    "\n",
    "for var in dropna_list:\n",
    "    var.dropna(inplace=True)\n",
    "    \n",
    "print(\"\\n============================================================================================================\")\n",
    "print(\"Checking base balance: \")\n",
    "\n",
    "targets = pd.concat([local_view[['label']].rename(columns={'label': 'target_local'}), global_view[[\n",
    "                    'label']].rename(columns={'label': 'target_global'})], axis=0, ignore_index=True)\n",
    "counts = targets.apply(pd.Series.value_counts).fillna(0).astype(int)\n",
    "\n",
    "print(counts)"
   ]
  },
  {
   "cell_type": "markdown",
   "metadata": {},
   "source": [
    "### Transform target column values ​​into 0 and 1"
   ]
  },
  {
   "cell_type": "code",
   "execution_count": null,
   "metadata": {},
   "outputs": [],
   "source": [
    "target_map = {'CONFIRMED': 1, 'FALSE POSITIVE': 0}\n",
    "local_view['label'] = local_view['label'].map(target_map)\n",
    "global_view['label'] = global_view['label'].map(target_map)"
   ]
  },
  {
   "cell_type": "markdown",
   "metadata": {},
   "source": [
    "### Separating into training and testing"
   ]
  },
  {
   "cell_type": "code",
   "execution_count": null,
   "metadata": {},
   "outputs": [],
   "source": [
    "# ============= Separating into X and y =============\n",
    "\n",
    "X_local = local_view.iloc[:, :-1]\n",
    "X_global = global_view.iloc[:, :-1]\n",
    "\n",
    "y_local = local_view['label']\n",
    "y_global = global_view['label']\n",
    "\n",
    "# ============= Separating into training and testing =============\n",
    "\n",
    "X_train_local, X_test_local, y_train_local, y_test_local = train_test_split(\n",
    "    X_local, y_local, test_size= 0.3, random_state=42, stratify=y_local)\n",
    "\n",
    "X_train_global, X_test_global, y_train_global, y_test_global = train_test_split(\n",
    "    X_global, y_global, test_size= 0.3, random_state=42, stratify=y_global)"
   ]
  },
  {
   "cell_type": "markdown",
   "metadata": {},
   "source": [
    "### Smote balancing"
   ]
  },
  {
   "cell_type": "code",
   "execution_count": null,
   "metadata": {},
   "outputs": [],
   "source": [
    "# Smote balancing\n",
    "smote = SMOTE()  # Create a SMOTE instance\n",
    "X_train_local, y_train_local = smote.fit_resample(X_train_local, y_train_local)  # Apply SMOTE to data local\n",
    "X_train_global, y_train_global = smote.fit_resample(X_train_global, y_train_global)  # Apply SMOTE to data global"
   ]
  },
  {
   "cell_type": "markdown",
   "metadata": {},
   "source": [
    "### All models and parameters of classification models"
   ]
  },
  {
   "cell_type": "code",
   "execution_count": null,
   "metadata": {},
   "outputs": [],
   "source": [
    "models_and_parameters_C = {\n",
    "    'AdaBoostClassifier': {\n",
    "        'clf': AdaBoostClassifier(random_state=42),\n",
    "        'parameters': {\n",
    "            'n_estimators': range(50, 450, 100)\n",
    "        },\n",
    "    },\n",
    "    'XGBClassifier': {\n",
    "        'clf': XGBClassifier(n_estimators=50, random_state=42),\n",
    "        'parameters': {\n",
    "            'n_estimators': range(50, 450, 100),\n",
    "            'gamma': [0.5, 1, 1.5, 2, 5],\n",
    "            'max_depth': [3, 4, 5]\n",
    "        }\n",
    "    },\n",
    "    # 'SVM': {\n",
    "    #     'clf': SVC(probability=True, random_state=42),\n",
    "    #     'parameters': {\n",
    "    #         'C': [1, 3, 5, 10, 15],\n",
    "    #         'kernel': ['linear', 'rbf'],\n",
    "    #         'tol': [1e-3, 1e-4]\n",
    "    #     },\n",
    "    # },\n",
    "    'MLPClassifier': {\n",
    "        'clf': MLPClassifier(random_state=42),\n",
    "        'parameters': {\n",
    "            'solver': ['sgd', 'adam'], \n",
    "            'max_iter': [500, 1000, 1500, 2000], \n",
    "            'hidden_layer_sizes': (100, 50),\n",
    "            'tol': [1e-3, 1e-4]\n",
    "        },\n",
    "    },\n",
    "    'DecisionTreeClassifier': {\n",
    "        'clf': DecisionTreeClassifier(random_state=42),\n",
    "        'parameters': {\n",
    "            'criterion': ['gini', 'entropy'],  \n",
    "            'splitter': ['best', 'random'],   \n",
    "            'max_depth': [None, 10, 20, 30], \n",
    "            'min_samples_split': [2, 5, 10],  \n",
    "            'min_samples_leaf': [1, 2, 4]     \n",
    "        },\n",
    "    }\n",
    "    \n",
    "}"
   ]
  },
  {
   "cell_type": "markdown",
   "metadata": {},
   "source": [
    "### Classifier models"
   ]
  },
  {
   "cell_type": "code",
   "execution_count": null,
   "metadata": {},
   "outputs": [],
   "source": [
    "models.defining_classifiers(models_and_parameters_C, X_train_local, y_train_local, X_test_local, y_test_local, \"local\")\n",
    "models.defining_classifiers(models_and_parameters_C, X_train_global, y_train_global, X_test_global, y_test_global, \"global\")"
   ]
  },
  {
   "cell_type": "markdown",
   "metadata": {},
   "source": [
    "### Dynamic selection of classifiers"
   ]
  },
  {
   "cell_type": "code",
   "execution_count": null,
   "metadata": {},
   "outputs": [],
   "source": [
    "models.dynamic_selection_of_classifiers(models_and_parameters_C, X_train_local, y_train_local, X_test_local, y_test_local, \"local\")"
   ]
  },
  {
   "cell_type": "code",
   "execution_count": null,
   "metadata": {},
   "outputs": [],
   "source": [
    "models.dynamic_selection_of_classifiers(models_and_parameters_C, X_train_global, y_train_global, X_test_global, y_test_global, \"global\")"
   ]
  },
  {
   "cell_type": "markdown",
   "metadata": {},
   "source": [
    "### LSTM"
   ]
  },
  {
   "cell_type": "code",
   "execution_count": null,
   "metadata": {},
   "outputs": [],
   "source": [
    "# Local\n",
    "univariate_past_history = 201\n",
    "future = univariate_future_target = 1\n",
    "\n",
    "# Fitting the training and testing data with the new dimensions\n",
    "x_train_uni = X_train_local.values.reshape(-1, univariate_past_history, future)\n",
    "x_val_uni = X_test_local.values.reshape(-1, univariate_past_history, future)\n",
    "y_train_uni = y_train_local.values\n",
    "y_val_uni = y_test_local.values\n",
    "\n",
    "print(\"Training and test data dimensions:\")\n",
    "print(\"x_train_uni:\", x_train_uni.shape)\n",
    "print(\"y_train_uni:\", y_train_uni.shape)\n",
    "print(\"x_val_uni:\", x_val_uni.shape)\n",
    "print(\"y_val_uni:\", y_val_uni.shape)"
   ]
  },
  {
   "cell_type": "code",
   "execution_count": null,
   "metadata": {},
   "outputs": [],
   "source": [
    "# Test LSTM data local\n",
    "models.method_LSTM(x_train_uni, y_train_uni, x_val_uni, y_val_uni, univariate_past_history, future)"
   ]
  },
  {
   "cell_type": "code",
   "execution_count": null,
   "metadata": {},
   "outputs": [],
   "source": [
    "# GlobaL\n",
    "univariate_past_history = 2001\n",
    "future = univariate_future_target = 1\n",
    "\n",
    "# Fitting the training and testing data with the new dimensions\n",
    "x_train_uni = X_train_global.values.reshape(-1, univariate_past_history, future)\n",
    "x_val_uni = X_test_global.values.reshape(-1, univariate_past_history, future)\n",
    "y_train_uni = y_train_global.values\n",
    "y_val_uni = y_test_global.values\n",
    "\n",
    "print(\"Training and test data dimensions:\")\n",
    "print(\"x_train_uni:\", x_train_uni.shape)\n",
    "print(\"y_train_uni:\", y_train_uni.shape)\n",
    "print(\"x_val_uni:\", x_val_uni.shape)\n",
    "print(\"y_val_uni:\", y_val_uni.shape)"
   ]
  },
  {
   "cell_type": "code",
   "execution_count": null,
   "metadata": {},
   "outputs": [],
   "source": [
    "# Test LSTM data global\n",
    "models.method_LSTM(x_train_uni, y_train_uni, x_val_uni, y_val_uni, univariate_past_history, future)"
   ]
  }
 ],
 "metadata": {
  "kernelspec": {
   "display_name": "Python 3",
   "language": "python",
   "name": "python3"
  },
  "language_info": {
   "codemirror_mode": {
    "name": "ipython",
    "version": 3
   },
   "file_extension": ".py",
   "mimetype": "text/x-python",
   "name": "python",
   "nbconvert_exporter": "python",
   "pygments_lexer": "ipython3",
   "version": "3.10.9"
  },
  "orig_nbformat": 4
 },
 "nbformat": 4,
 "nbformat_minor": 2
}
