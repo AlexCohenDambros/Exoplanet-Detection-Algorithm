{
 "cells": [
  {
   "attachments": {},
   "cell_type": "markdown",
   "metadata": {},
   "source": [
    "Author: Alex Cohen Dambrós Lopes \n",
    "\n",
    "=-=-=-=-=-=-=-=-=-=-=-=-=-=-=-=-=-=-=-=-=-=-=-=-=\n",
    "# Getting all light curves from space telescopes and running their pre-processing and data analysis\n",
    "=-=-=-=-=-=-=-=-=-=-=-=-=-=-=-=-=-=-=-=-=-=-=-=-=\n",
    "\n",
    "This is an example code used to obtain light curves from space telescopes and preprocess \n",
    "them automatically\n"
   ]
  },
  {
   "attachments": {},
   "cell_type": "markdown",
   "metadata": {},
   "source": [
    "# Imports"
   ]
  },
  {
   "cell_type": "code",
   "execution_count": null,
   "metadata": {},
   "outputs": [],
   "source": [
    "import pandas as pd\n",
    "import numpy as np\n",
    "import warnings\n",
    "import lightkurve as lk\n",
    "import seaborn as sns\n",
    "import matplotlib.pyplot as plt\n",
    "import sys\n",
    "import os\n",
    "from Functions import all_functions"
   ]
  },
  {
   "attachments": {},
   "cell_type": "markdown",
   "metadata": {},
   "source": [
    "# General Functions"
   ]
  },
  {
   "cell_type": "code",
   "execution_count": null,
   "metadata": {},
   "outputs": [],
   "source": [
    "def add_value_labels(ax, spacing=5):\n",
    "    # For each bar: Place a label\n",
    "    for rect in ax.patches:\n",
    "        # Get X and Y placement of label from rect.\n",
    "        y_value = rect.get_height()\n",
    "        x_value = rect.get_x() + rect.get_width() / 2\n",
    "\n",
    "        # Number of points between bar and label. Change to your liking.\n",
    "        space = spacing\n",
    "        # Vertical alignment for positive values\n",
    "        va = 'bottom'\n",
    "\n",
    "        # If value of bar is negative: Place label below bar\n",
    "        if y_value < 0:\n",
    "            # Invert space to place label below\n",
    "            space *= -1\n",
    "            # Vertically align label at top\n",
    "            va = 'top'\n",
    "\n",
    "        # Use Y value as label and format number with one decimal place\n",
    "        label = \"{:.0f}\".format(y_value)\n",
    "\n",
    "        # Create annotation\n",
    "        ax.annotate(\n",
    "            label,                      # Use `label` as label\n",
    "            (x_value, y_value),         # Place label at end of the bar\n",
    "            xytext=(0, space),          # Vertically shift label by `space`\n",
    "            textcoords=\"offset points\", # Interpret `xytext` as offset in points\n",
    "            ha='center',                # Horizontally center label\n",
    "            va=va) "
   ]
  },
  {
   "attachments": {},
   "cell_type": "markdown",
   "metadata": {},
   "source": [
    "# Presets"
   ]
  },
  {
   "cell_type": "code",
   "execution_count": null,
   "metadata": {},
   "outputs": [],
   "source": [
    "# ============= RandomState =============\n",
    "random_state = np.random.RandomState(123)\n",
    "\n",
    "\n",
    "# ============= Warnings =============\n",
    "warnings.simplefilter(\"ignore\")\n",
    "\n",
    "\n",
    "pd.set_option('display.max_columns', None)  # show all cols\n",
    "pd.set_option('display.max_rows', None) # show all rows\n",
    "pd.set_option(\"expand_frame_repr\", False) # print cols side by side as it's supposed to be"
   ]
  },
  {
   "attachments": {},
   "cell_type": "markdown",
   "metadata": {},
   "source": [
    "# Download Data"
   ]
  },
  {
   "cell_type": "code",
   "execution_count": null,
   "metadata": {},
   "outputs": [],
   "source": [
    "# all_functions.download_all_datasets()"
   ]
  },
  {
   "attachments": {},
   "cell_type": "markdown",
   "metadata": {},
   "source": [
    "# Open Datasets"
   ]
  },
  {
   "cell_type": "code",
   "execution_count": null,
   "metadata": {},
   "outputs": [],
   "source": [
    "df_tess = all_functions.read_dataset('tess')\n",
    "df_kepler = all_functions.read_dataset('kepler')\n",
    "df_k2 = all_functions.read_dataset('k2')"
   ]
  },
  {
   "attachments": {},
   "cell_type": "markdown",
   "metadata": {},
   "source": [
    "# Initial Analysis"
   ]
  },
  {
   "attachments": {},
   "cell_type": "markdown",
   "metadata": {},
   "source": [
    "## Head of Data"
   ]
  },
  {
   "cell_type": "code",
   "execution_count": null,
   "metadata": {},
   "outputs": [],
   "source": [
    "df_tess.head()"
   ]
  },
  {
   "cell_type": "code",
   "execution_count": null,
   "metadata": {},
   "outputs": [],
   "source": [
    "df_kepler.head()"
   ]
  },
  {
   "cell_type": "code",
   "execution_count": null,
   "metadata": {},
   "outputs": [],
   "source": [
    "df_k2.head()"
   ]
  },
  {
   "cell_type": "code",
   "execution_count": null,
   "metadata": {},
   "outputs": [],
   "source": [
    "#  Rename specific columns\n",
    "df_tess.rename(columns={\"tfopwg_disp\": \"disposition\"}, inplace = True)\n",
    "df_kepler.rename(columns={\"koi_disposition\": \"disposition\"}, inplace = True)"
   ]
  },
  {
   "attachments": {},
   "cell_type": "markdown",
   "metadata": {},
   "source": [
    "## Data Visualization"
   ]
  },
  {
   "cell_type": "code",
   "execution_count": null,
   "metadata": {},
   "outputs": [],
   "source": [
    "telescope_data_list = {\"TESS\": df_tess, \"KEPLER\": df_kepler, \"K2\": df_k2}"
   ]
  },
  {
   "cell_type": "code",
   "execution_count": null,
   "metadata": {},
   "outputs": [],
   "source": [
    "\"\"\"\n",
    "=-=-=-=-=-=-=-=-=-=-=-=-=-=-=-=-=-=-=-=-=-=-=-=-=\n",
    "Total number of instances and columns\n",
    "=-=-=-=-=-=-=-=-=-=-=-=-=-=-=-=-=-=-=-=-=-=-=-=-=\n",
    "\"\"\"\n",
    "\n",
    "list_disposition = ['FALSE POSITIVE', 'CONFIRMED']\n",
    "\n",
    "for telescope, df_telescope in telescope_data_list.items():\n",
    "    print(f\"============ {telescope} ============\")\n",
    "    print(f\"For the data collected by the {telescope} space telescope, it has {df_telescope.shape[1]} columns and {df_telescope.shape[0]} instances.\")\n",
    "    \n",
    "    \"\"\"\n",
    "    =-=-=-=-=-=-=-=-=-=-=-=-=-=-=-=-=-=-=-=-=-=-=-=-=\n",
    "    Percentage of false positives and candidates\n",
    "    =-=-=-=-=-=-=-=-=-=-=-=-=-=-=-=-=-=-=-=-=-=-=-=-=\n",
    "    \"\"\"\n",
    "    \n",
    "    df_filtered = df_telescope[(df_telescope['disposition'] == 'FALSE POSITIVE') | (df_telescope['disposition'] == 'CONFIRMED')]\n",
    "    sum_false_positives = (df_filtered['disposition'] == 'FALSE POSITIVE').sum()\n",
    "    sum_confirmed = (df_filtered['disposition'] == 'CONFIRMED').sum()\n",
    "    print(\"Total False Positives: %d, Total Confirmed: %d, Others: %d\" % (sum_false_positives, sum_confirmed, df_telescope.shape[0] - (sum_confirmed + sum_false_positives)))\n",
    "    print(\"Percentage False Positives: %.2f%%, Percentage Confirmed: %.2f%%, Percentage of Others: %.2f%%\" % ((sum_false_positives / df_telescope.shape[0]) * 100, (sum_confirmed / df_telescope.shape[0]) * 100, (df_telescope.shape[0] - (sum_confirmed + sum_false_positives)) * 100 / df_telescope.shape[0]))\n",
    "    "
   ]
  },
  {
   "cell_type": "code",
   "execution_count": null,
   "metadata": {},
   "outputs": [],
   "source": [
    "# TESS\n",
    "fig, ax = plt.subplots(figsize=(10, 5))\n",
    "sns.countplot(df_tess[\"disposition\"], color = \"#0092D4\", ax=ax)\n",
    "add_value_labels(ax)\n",
    "plt.title(\"Amount of disposition of the data present in the TESS telescope\", loc=\"left\")\n",
    "plt.xlabel(\"Disposition\")\n",
    "plt.ylabel(\"Amount\")\n",
    "plt.ylim(0, 5000)\n",
    "plt.show()"
   ]
  },
  {
   "cell_type": "code",
   "execution_count": null,
   "metadata": {},
   "outputs": [],
   "source": [
    "# KEPLER\n",
    "fig, ax = plt.subplots(figsize=(10, 5))\n",
    "sns.countplot(df_kepler[\"disposition\"], color = \"#0092D4\", ax=ax)\n",
    "add_value_labels(ax)\n",
    "plt.title(\"Amount of disposition of the data present in the KEPLER telescope\", loc=\"left\")\n",
    "plt.xlabel(\"Disposition\")\n",
    "plt.ylabel(\"Amount\")\n",
    "plt.ylim(0, 5200)\n",
    "plt.show()"
   ]
  },
  {
   "cell_type": "code",
   "execution_count": null,
   "metadata": {},
   "outputs": [],
   "source": [
    "# K2\n",
    "fig, ax = plt.subplots(figsize=(10, 5))\n",
    "sns.countplot(df_k2[\"disposition\"], color = \"#0092D4\", ax=ax)\n",
    "add_value_labels(ax)\n",
    "plt.title(\"Amount of disposition of the data present in the K2 telescope\", loc=\"left\")\n",
    "plt.xlabel(\"Disposition\")\n",
    "plt.ylabel(\"Amount\")\n",
    "plt.ylim(0, 2500)\n",
    "plt.show()"
   ]
  },
  {
   "attachments": {},
   "cell_type": "markdown",
   "metadata": {},
   "source": [
    "## Percentage of null values ​​in each column of the TESS telescope"
   ]
  },
  {
   "cell_type": "code",
   "execution_count": null,
   "metadata": {},
   "outputs": [],
   "source": [
    "null_values = round((df_tess.isna().sum() / len(df_tess)) * 100, 2)\n",
    "null_values = null_values.to_frame()\n",
    "null_values.rename(columns={0: \"%null\"}, inplace = True)\n",
    "null_values"
   ]
  },
  {
   "attachments": {},
   "cell_type": "markdown",
   "metadata": {},
   "source": [
    "# Percentage of null values ​​in each column of the KEPLER telescope"
   ]
  },
  {
   "cell_type": "code",
   "execution_count": null,
   "metadata": {},
   "outputs": [],
   "source": [
    "null_values = round((df_kepler.isna().sum() / len(df_kepler)) * 100, 2)\n",
    "null_values = null_values.to_frame()\n",
    "null_values.rename(columns={0: \"%null\"}, inplace = True)\n",
    "null_values"
   ]
  },
  {
   "attachments": {},
   "cell_type": "markdown",
   "metadata": {},
   "source": [
    "# Percentage of null values ​​in each column of the K2 telescope"
   ]
  },
  {
   "cell_type": "code",
   "execution_count": null,
   "metadata": {},
   "outputs": [],
   "source": [
    "null_values = round((df_k2.isna().sum() / len(df_k2)) * 100, 2)\n",
    "null_values = null_values.to_frame()\n",
    "null_values.rename(columns={0: \"%null\"}, inplace = True)\n",
    "null_values"
   ]
  },
  {
   "attachments": {},
   "cell_type": "markdown",
   "metadata": {},
   "source": [
    "# Selecting specific columns for the first test"
   ]
  },
  {
   "cell_type": "code",
   "execution_count": null,
   "metadata": {},
   "outputs": [],
   "source": [
    "# drop rows of planets that were discovered by methods other than transit\n",
    "df_k2 = df_k2[df_k2['discoverymethod'] != 'Radial Velocity']"
   ]
  },
  {
   "cell_type": "code",
   "execution_count": null,
   "metadata": {},
   "outputs": [],
   "source": [
    "# TESS\n",
    "df_tess  = df_tess[['tid', 'disposition', 'pl_orbper', 'pl_trandurh']]\n",
    "df_tess.rename(columns={\"tid\": \"id_target\", \"pl_orbper\": \"period\", \"pl_trandurh\": \"duration\"}, inplace = True)\n",
    "\n",
    "# KEPLER\n",
    "df_kepler = df_kepler[['kepid', 'disposition','koi_period','koi_duration', 'koi_time0bk']]\n",
    "df_kepler.rename(columns={\"kepid\": \"id_target\", \"koi_period\": \"period\", \"koi_duration\": \"duration\"}, inplace = True)\n",
    "\n",
    "# K2\n",
    "df_k2 = df_k2[['tic_id', 'disposition', 'pl_orbper', 'pl_trandur']]\n",
    "df_k2.rename(columns={\"tic_id\": \"id_target\", \"pl_orbper\": \"period\", \"pl_trandur\": \"duration\"}, inplace = True)"
   ]
  },
  {
   "cell_type": "code",
   "execution_count": null,
   "metadata": {},
   "outputs": [],
   "source": [
    "df_tess.head()"
   ]
  },
  {
   "attachments": {},
   "cell_type": "markdown",
   "metadata": {},
   "source": [
    "# Local View & Global View\n",
    "\n",
    "- global view -> All light curves are binned to the same length\n",
    "\n",
    "- local view -> so that the transit occupies a fixed fraction of the resulting vector.\n",
    "\n",
    "The global view has a fixed length of 2001 bins, while the local view has a fixed length of 201 bins."
   ]
  },
  {
   "cell_type": "code",
   "execution_count": null,
   "metadata": {},
   "outputs": [],
   "source": [
    "telescopes_list = {'Kepler': df_kepler, 'TESS': df_tess, 'K2': df_k2}\n",
    "\n",
    "for name_telescope, df_telescope in telescopes_list.items():\n",
    "    for index, row in df_telescope.iterrows():\n",
    "        try:\n",
    "            id_target, period, duration, t0 = row[0], row[2], row[3], row[4]\n",
    "        except:\n",
    "            id_target, period, duration = row[0], row[2], row[3]\n",
    "            \n",
    "        try:\n",
    "            \n",
    "            if name_telescope == 'Kepler':\n",
    "                id_target = 'KIC ' + str(id_target)\n",
    "            elif name_telescope == 'TESS':\n",
    "                id_target = 'TIC ' + str(id_target)\n",
    "            \n",
    "                \n",
    "            lcs = lk.search_lightcurve(id_target, mission= name_telescope, cadence='long').download_all()\n",
    "            \n",
    "            if not(lcs is None):\n",
    "                \n",
    "                # This method concatenates all quarters in our LightCurveCollection together, and normalizes them at the same time.\n",
    "                lc_raw = lcs.stitch()\n",
    "                \n",
    "                # Clean outliers, but only those that are above the mean level (e.g. attributable to stellar flares or cosmic rays).\n",
    "                lc_clean = lc_raw.remove_outliers(sigma=20, sigma_upper=4)\n",
    "                \n",
    "                \n",
    "                # We have to mask the transit to avoid self-subtraction the genuine planet signal when we flatten the lightcurve. We have to do a hack to find where the time series should be masked.\n",
    "                if t0 != None:\n",
    "                    temp_fold = lc_clean.fold(period, epoch_time=t0)\n",
    "                else:\n",
    "                    temp_fold = lc_clean.fold(period)\n",
    "            \n",
    "                fractional_duration = (duration / 24.0) / period\n",
    "                phase_mask = np.abs(temp_fold.phase.value) < (fractional_duration * 1.5)\n",
    "                transit_mask = np.in1d(lc_clean.time.value, temp_fold.time_original.value[phase_mask])\n",
    "            \n",
    "                # Now flatten the mask, but interpolate the trend over the points possessing the transit signal of interest.\n",
    "                lc_flat, trend_lc = lc_clean.flatten(return_trend=True, mask=transit_mask)\n",
    "                \n",
    "                # Now fold the cleaned, flattened lightcurve:\n",
    "                if t0 != None:\n",
    "                    lc_fold = lc_flat.fold(period, epoch_time=t0)\n",
    "                else:\n",
    "                    lc_fold = lc_flat.fold(period)\n",
    "                    \n",
    "                \n",
    "                # ========= Defining global curves =========\n",
    "                lc_global = lc_fold.bin(time_bin_size=0.005).normalize() - 1\n",
    "                lc_global = (lc_global / np.abs(lc_global.flux.min()) ) * 2.0 + 1\n",
    "                \n",
    "                phase_mask = (lc_fold.phase > -4*fractional_duration) & (lc_fold.phase < 4.0*fractional_duration)\n",
    "                lc_zoom = lc_fold[phase_mask]\n",
    "                \n",
    "                # ========= Defining local curves =========\n",
    "                lc_local = lc_zoom.bin(bins=201).normalize() - 1\n",
    "                lc_local = (lc_local / np.abs(np.nanmin(lc_local.flux)) ) * 2.0 + 1\n",
    "                \n",
    "                \n",
    "                print(f\"{id_target} target pre-processing performed\")\n",
    "                break\n",
    "            \n",
    "            else:\n",
    "                print(\"Error downloading target data:\", id_target)\n",
    "        \n",
    "        except Exception as error:\n",
    "            print(error)"
   ]
  }
 ],
 "metadata": {
  "kernelspec": {
   "display_name": "Python 3.10.5 64-bit",
   "language": "python",
   "name": "python3"
  },
  "language_info": {
   "codemirror_mode": {
    "name": "ipython",
    "version": 3
   },
   "file_extension": ".py",
   "mimetype": "text/x-python",
   "name": "python",
   "nbconvert_exporter": "python",
   "pygments_lexer": "ipython3",
   "version": "3.10.5"
  },
  "orig_nbformat": 4,
  "vscode": {
   "interpreter": {
    "hash": "c2aad3367d6b78e24ba4ea93151d29e7ae5b13b686914646e5d7fb2c62a3fe26"
   }
  }
 },
 "nbformat": 4,
 "nbformat_minor": 2
}
